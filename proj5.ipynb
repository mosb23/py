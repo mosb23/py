{
 "cells": [
  {
   "cell_type": "code",
   "execution_count": 36,
   "id": "0e1416d5",
   "metadata": {},
   "outputs": [
    {
     "name": "stdout",
     "output_type": "stream",
     "text": [
      "[5, 12, 1, 21, 32, 51]\n"
     ]
    }
   ],
   "source": [
    "import numpy as np\n",
    "arr=np.array([5,12,1,21,32,51])\n",
    "x=arr.tolist()\n",
    "print(x)\n"
   ]
  },
  {
   "cell_type": "code",
   "execution_count": 89,
   "id": "8048b0bc",
   "metadata": {},
   "outputs": [
    {
     "name": "stdout",
     "output_type": "stream",
     "text": [
      "[[0 1 2]\n",
      " [3 4 5]\n",
      " [6 7 8]]\n",
      "12\n"
     ]
    }
   ],
   "source": [
    "import numpy as np\n",
    "m = np.array([[0,1,2],[3,4,5],[6,7,8]])\n",
    "print(m)\n",
    "x = np.trace(m)\n",
    "print(x)"
   ]
  },
  {
   "cell_type": "code",
   "execution_count": 58,
   "id": "24194816",
   "metadata": {},
   "outputs": [
    {
     "name": "stdout",
     "output_type": "stream",
     "text": [
      "[3 5]\n"
     ]
    }
   ],
   "source": [
    "import numpy as np\n",
    "a = np.array([[1,2],[3,5]])\n",
    "x=2\n",
    "newarr =a[a>2]\n",
    "print(newarr)\n",
    "   "
   ]
  },
  {
   "cell_type": "code",
   "execution_count": 55,
   "id": "3d769885",
   "metadata": {},
   "outputs": [
    {
     "name": "stdout",
     "output_type": "stream",
     "text": [
      "[[ 8 12 14]\n",
      " [18 24  7]\n",
      " [ 8  8 10]]\n"
     ]
    }
   ],
   "source": [
    "import numpy as np\n",
    "a=np.array([[1,4,5],[3,4,6],[6,5,4]])\n",
    "b=np.array([[7,8,9],[15,20,1],[2,3,6]])\n",
    "c=a+b\n",
    "print(c)\n"
   ]
  },
  {
   "cell_type": "code",
   "execution_count": 83,
   "id": "485a1fef",
   "metadata": {},
   "outputs": [
    {
     "name": "stdout",
     "output_type": "stream",
     "text": [
      "[[ -3   1   2]\n",
      " [-10  10   0]\n",
      " [  1  11 -13]]\n"
     ]
    }
   ],
   "source": [
    "import numpy as np\n",
    "a=np.matrix([[1,5,6],\n",
    "             [10,30,20],\n",
    "             [20,30,5]])\n",
    "for i in range(len(a)):\n",
    "    a[i]=a[i]-a[i].mean()\n",
    "print(a)\n",
    "\n",
    "\n"
   ]
  },
  {
   "cell_type": "code",
   "execution_count": null,
   "id": "3151b67d",
   "metadata": {},
   "outputs": [],
   "source": []
  },
  {
   "cell_type": "code",
   "execution_count": null,
   "id": "c9f815f2",
   "metadata": {},
   "outputs": [],
   "source": []
  }
 ],
 "metadata": {
  "kernelspec": {
   "display_name": "Python 3 (ipykernel)",
   "language": "python",
   "name": "python3"
  },
  "language_info": {
   "codemirror_mode": {
    "name": "ipython",
    "version": 3
   },
   "file_extension": ".py",
   "mimetype": "text/x-python",
   "name": "python",
   "nbconvert_exporter": "python",
   "pygments_lexer": "ipython3",
   "version": "3.9.12"
  }
 },
 "nbformat": 4,
 "nbformat_minor": 5
}
