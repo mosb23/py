{
 "cells": [
  {
   "cell_type": "code",
   "execution_count": 15,
   "id": "18403796",
   "metadata": {},
   "outputs": [
    {
     "name": "stdout",
     "output_type": "stream",
     "text": [
      "please enter num 60\n",
      "please enter num 50\n",
      "please enter num 70\n",
      "70\n"
     ]
    }
   ],
   "source": [
    "def max(a,b,c):\n",
    "    if(a>b and a>c):\n",
    "         return a\n",
    "    elif(b>a and b>c):\n",
    "        return b\n",
    "    else:\n",
    "        return c\n",
    "x=int(input(\"please enter num \"))\n",
    "y=int(input(\"please enter num \"))\n",
    "z=int(input(\"please enter num \"))\n",
    "print(max(x,y,z))"
   ]
  },
  {
   "cell_type": "code",
   "execution_count": 16,
   "id": "1f0aaaba",
   "metadata": {},
   "outputs": [
    {
     "name": "stdout",
     "output_type": "stream",
     "text": [
      "please enter num 40\n",
      "please enter num 10\n",
      "(50, 30)\n"
     ]
    }
   ],
   "source": [
    "def add_sub(a,b):\n",
    "    c = a+b\n",
    "    d= a-b\n",
    "    return c,d\n",
    "x=int(input(\"please enter num \"))\n",
    "y=int(input(\"please enter num \"))\n",
    "print(add_sub(x,y))\n",
    "\n"
   ]
  },
  {
   "cell_type": "code",
   "execution_count": 44,
   "id": "74e7717a",
   "metadata": {},
   "outputs": [
    {
     "name": "stdout",
     "output_type": "stream",
     "text": [
      "14\n",
      "108\n"
     ]
    }
   ],
   "source": [
    "def sums(x):\n",
    "    sum=0\n",
    "    for i in range (0,len(x),2):\n",
    "        sum +=x[i]\n",
    "    return sum\n",
    "def mult(x):\n",
    "    mult=1\n",
    "    for i in range (1,len(x),2):\n",
    "        mult *=x[i]\n",
    "    return mult\n",
    "x = [2,3,4,6,8,6]\n",
    "y=sums(x)\n",
    "z=mult(x)\n",
    "print(y)\n",
    "print(z)\n",
    "\n",
    "    \n",
    "        \n"
   ]
  },
  {
   "cell_type": "code",
   "execution_count": 33,
   "id": "9bdc44dc",
   "metadata": {},
   "outputs": [
    {
     "name": "stdout",
     "output_type": "stream",
     "text": [
      "['black', 'green', 'red', 'white', 'yellow']\n"
     ]
    }
   ],
   "source": [
    "d1 = \"green-red-yellow-black-white\"\n",
    "d1=d1.split(\"-\")\n",
    "d1.sort()\n",
    "print(d1)"
   ]
  },
  {
   "cell_type": "code",
   "execution_count": 9,
   "id": "4fda3390",
   "metadata": {},
   "outputs": [
    {
     "name": "stdout",
     "output_type": "stream",
     "text": [
      "please enter D 180\n",
      "24\n"
     ]
    }
   ],
   "source": [
    "def q(d):\n",
    "    c=50\n",
    "    h=30\n",
    "    s=((2*c*d)/(h))**0.5\n",
    "    return s\n",
    "d=int(input(\"please enter D \"))\n",
    "s=q(d)\n",
    "print(round(s))\n",
    "    "
   ]
  },
  {
   "cell_type": "code",
   "execution_count": null,
   "id": "2c89d07c",
   "metadata": {},
   "outputs": [],
   "source": []
  },
  {
   "cell_type": "code",
   "execution_count": null,
   "id": "fef1a15e",
   "metadata": {},
   "outputs": [],
   "source": []
  }
 ],
 "metadata": {
  "kernelspec": {
   "display_name": "Python 3 (ipykernel)",
   "language": "python",
   "name": "python3"
  },
  "language_info": {
   "codemirror_mode": {
    "name": "ipython",
    "version": 3
   },
   "file_extension": ".py",
   "mimetype": "text/x-python",
   "name": "python",
   "nbconvert_exporter": "python",
   "pygments_lexer": "ipython3",
   "version": "3.9.12"
  }
 },
 "nbformat": 4,
 "nbformat_minor": 5
}
