{
 "cells": [
  {
   "cell_type": "code",
   "execution_count": 4,
   "id": "91d30561",
   "metadata": {},
   "outputs": [
    {
     "name": "stdout",
     "output_type": "stream",
     "text": [
      " the length of the countdown in seconds5\n",
      "Fire in the hole\n"
     ]
    }
   ],
   "source": [
    "import time\n",
    "def countdown(ti):\n",
    "    while ti>0:\n",
    "            d=divmod(ti,60)\n",
    "            timeformat=(ti)\n",
    "            ti=ti-1\n",
    "            time.sleep(1)\n",
    "            print(timeformat,end=\"\\r\")\n",
    "    print(\"Fire in the hole\") \n",
    "t=int(input(\" the length of the countdown in seconds\"))\n",
    "countdown(t)\n"
   ]
  },
  {
   "cell_type": "code",
   "execution_count": null,
   "id": "6faee098",
   "metadata": {},
   "outputs": [],
   "source": []
  },
  {
   "cell_type": "code",
   "execution_count": null,
   "id": "2e4693f5",
   "metadata": {},
   "outputs": [],
   "source": []
  }
 ],
 "metadata": {
  "kernelspec": {
   "display_name": "Python 3 (ipykernel)",
   "language": "python",
   "name": "python3"
  },
  "language_info": {
   "codemirror_mode": {
    "name": "ipython",
    "version": 3
   },
   "file_extension": ".py",
   "mimetype": "text/x-python",
   "name": "python",
   "nbconvert_exporter": "python",
   "pygments_lexer": "ipython3",
   "version": "3.9.12"
  }
 },
 "nbformat": 4,
 "nbformat_minor": 5
}
