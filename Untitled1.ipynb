{
 "cells": [
  {
   "cell_type": "code",
   "execution_count": 1,
   "id": "91b4c117",
   "metadata": {},
   "outputs": [
    {
     "name": "stdout",
     "output_type": "stream",
     "text": [
      "please enter ur first name moh\n",
      "please enter ur last name ahme\n",
      "ahme moh\n"
     ]
    }
   ],
   "source": [
    "x=input(\"please enter ur first name \")\n",
    "y=input(\"please enter ur last name \")\n",
    "print(y,x)\n"
   ]
  },
  {
   "cell_type": "code",
   "execution_count": 2,
   "id": "9528602f",
   "metadata": {},
   "outputs": [
    {
     "name": "stdout",
     "output_type": "stream",
     "text": [
      "please enter the value5\n",
      "615\n"
     ]
    }
   ],
   "source": [
    "x=int(input(\"please enter the value\"))\n",
    "s=x+x*11+x*111\n",
    "print(s)"
   ]
  },
  {
   "cell_type": "code",
   "execution_count": null,
   "id": "3a29c294",
   "metadata": {},
   "outputs": [],
   "source": [
    "x=int(input(\"please enter postive num \"))\n",
    "if x%2 ==0:\n",
    "    print(\"even\")\n",
    "else:\n",
    "    print(\"odd\")"
   ]
  },
  {
   "cell_type": "code",
   "execution_count": 4,
   "id": "97be158a",
   "metadata": {},
   "outputs": [
    {
     "name": "stdout",
     "output_type": "stream",
     "text": [
      "please enter postive num 5\n",
      "odd\n"
     ]
    }
   ],
   "source": [
    "x = int(input(\"please enter the start \"))\n",
    "y = int(input(\"please enter the end \"))\n",
    "while x <= y:\n",
    "    if x % 7 ==0:\n",
    "        if x % 5 != 0:\n",
    "            print(x)\n",
    "    x += 1"
   ]
  },
  {
   "cell_type": "code",
   "execution_count": null,
   "id": "133003c6",
   "metadata": {},
   "outputs": [],
   "source": [
    "x=int(input(\"please enter num \"))\n",
    "sum = 1\n",
    "while x >= 1 :\n",
    "     sum *= x\n",
    "     x=x-1\n",
    "print(\"the sum of the factorial function\",sum)"
   ]
  },
  {
   "cell_type": "code",
   "execution_count": null,
   "id": "fe031335",
   "metadata": {},
   "outputs": [],
   "source": [
    "x = \"hello team\"\n",
    "i = 0\n",
    "while i <= 10:\n",
    "    print(x[i])\n",
    "    i = i +2"
   ]
  },
  {
   "cell_type": "code",
   "execution_count": null,
   "id": "70ade21f",
   "metadata": {},
   "outputs": [],
   "source": [
    "x=float(input(\"please enter the net price \"))\n",
    "if x >= 500 :\n",
    "    x = x* 0.5\n",
    "    print(\"the final price=\",x)\n",
    "elif x >= 200 :\n",
    "    x = x * 0.7\n",
    "    print(\"the final price=\",x)\n",
    "else :\n",
    "    x = x*0.9\n",
    "    print(\"the final price=\",x)"
   ]
  }
 ],
 "metadata": {
  "kernelspec": {
   "display_name": "Python 3 (ipykernel)",
   "language": "python",
   "name": "python3"
  },
  "language_info": {
   "codemirror_mode": {
    "name": "ipython",
    "version": 3
   },
   "file_extension": ".py",
   "mimetype": "text/x-python",
   "name": "python",
   "nbconvert_exporter": "python",
   "pygments_lexer": "ipython3",
   "version": "3.9.12"
  }
 },
 "nbformat": 4,
 "nbformat_minor": 5
}
