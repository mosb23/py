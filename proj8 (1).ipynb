{
 "cells": [
  {
   "cell_type": "code",
   "execution_count": 2,
   "id": "a6bb204f",
   "metadata": {},
   "outputs": [
    {
     "name": "stdout",
     "output_type": "stream",
     "text": [
      "enter k6\n"
     ]
    },
    {
     "data": {
      "text/plain": [
       "'error'"
      ]
     },
     "execution_count": 2,
     "metadata": {},
     "output_type": "execute_result"
    }
   ],
   "source": [
    "def binary_search(a,l,h,k):\n",
    "    if h >= l:\n",
    "        mid=int(l+(h-l)/2)\n",
    "        if a[mid]==k:\n",
    "            return \"k is here\"\n",
    "        elif a[mid]<k:\n",
    "            return binary_search(a,mid+1,h,k)\n",
    "        else:\n",
    "            return binary_search(a,l,mid-1,k)\n",
    "    else:\n",
    "        return 'error'\n",
    "a=[1,2,3,5,8]\n",
    "k=int(input(\"enter k\"))\n",
    "binary_search(a,0,len(a),k)\n",
    "\n"
   ]
  },
  {
   "cell_type": "code",
   "execution_count": 3,
   "id": "744ce9ff",
   "metadata": {},
   "outputs": [
    {
     "data": {
      "text/plain": [
       "81"
      ]
     },
     "execution_count": 3,
     "metadata": {},
     "output_type": "execute_result"
    }
   ],
   "source": [
    "def pow(n,m):\n",
    "    if n == 0:\n",
    "        return 0\n",
    "    elif m ==0:\n",
    "        return 1\n",
    "    elif n == 1:\n",
    "        return 1\n",
    "    else:\n",
    "        return n*pow(n,m-1)\n",
    "pow(3,4)\n",
    "\n",
    "    "
   ]
  },
  {
   "cell_type": "code",
   "execution_count": 2,
   "id": "e9ac87a2",
   "metadata": {},
   "outputs": [
    {
     "data": {
      "text/plain": [
       "[13, 22, 29, 37, 46, 49, 52, 71, 56]"
      ]
     },
     "execution_count": 2,
     "metadata": {},
     "output_type": "execute_result"
    }
   ],
   "source": [
    "def bubbleSort(nlist):\n",
    "    for j in range(len(nlist)-1):\n",
    "        for i in range(j):\n",
    "            if nlist[i]>nlist[i+1]:\n",
    "                temp = nlist[i]\n",
    "                nlist[i] = nlist[i+1]\n",
    "                nlist[i+1] = temp\n",
    "    return nlist\n",
    "nlist = [29,13,22,37,52,49,46,71,56]\n",
    "bubbleSort(nlist)"
   ]
  },
  {
   "cell_type": "code",
   "execution_count": 13,
   "id": "e59411a9",
   "metadata": {},
   "outputs": [
    {
     "data": {
      "text/plain": [
       "[13, 22, 29, 37, 46, 49, 52, 56, 71]"
      ]
     },
     "execution_count": 13,
     "metadata": {},
     "output_type": "execute_result"
    }
   ],
   "source": [
    "def mergesort(mylist):\n",
    "    if len(mylist)>1:\n",
    "        mid = len(mylist)//2\n",
    "        left= mylist[:mid]\n",
    "        right=mylist[mid:]\n",
    "        mergesort(left)\n",
    "        mergesort(right)\n",
    "        i=0\n",
    "        j=0\n",
    "        k=0\n",
    "        while i <len(left) and j< len(right):\n",
    "            if left[i]<right[j]:\n",
    "                mylist[k]=left[i]\n",
    "                i+=1\n",
    "            else:\n",
    "                mylist[k]=right[j]\n",
    "                j+=1\n",
    "            k+=1\n",
    "        while i < len(left):\n",
    "                mylist[k] = left[i]\n",
    "                i += 1\n",
    "                k += 1\n",
    "\n",
    "        while j < len(right):\n",
    "                mylist[k]=right[j]\n",
    "                j += 1\n",
    "                k += 1\n",
    "            \n",
    "mylist=[29,13,22,37,52,49,46,71,56]\n",
    "mergesort(mylist)\n",
    "mylist"
   ]
  },
  {
   "cell_type": "code",
   "execution_count": 19,
   "id": "ca295b1a",
   "metadata": {},
   "outputs": [
    {
     "name": "stdout",
     "output_type": "stream",
     "text": [
      "[13, 22, 29, 37, 46, 49, 52, 56, 71]\n"
     ]
    }
   ],
   "source": [
    "def quicksort(array,start,end):\n",
    "    pivot=array[start]\n",
    "    low=start+1\n",
    "    high=end\n",
    "    while True:\n",
    "        while low <= high and array[high] >= pivot:\n",
    "            high = high - 1\n",
    "        while low <= high and array[low] <= pivot:\n",
    "            low = low + 1\n",
    "        if low <= high:\n",
    "            array[low], array[high] = array[high], array[low]\n",
    "        else:\n",
    "            break \n",
    "    array[start], array[high] = array[high], array[start]\n",
    "\n",
    "    return high\n",
    "def quick_sort(array, start, end):\n",
    "    if start >= end:\n",
    "        return\n",
    "    p = quicksort(array, start, end)\n",
    "    quick_sort(array, start, p-1)\n",
    "    quick_sort(array, p+1, end)\n",
    "mylist= [29,13,22,37,52,49,46,71,56]\n",
    "quick_sort(mylist,0,len(mylist)-1)\n",
    "print(mylist)\n",
    "        "
   ]
  },
  {
   "cell_type": "code",
   "execution_count": null,
   "id": "b76cfdd9",
   "metadata": {},
   "outputs": [],
   "source": []
  },
  {
   "cell_type": "code",
   "execution_count": null,
   "id": "eb3bc184",
   "metadata": {},
   "outputs": [],
   "source": []
  }
 ],
 "metadata": {
  "kernelspec": {
   "display_name": "Python 3 (ipykernel)",
   "language": "python",
   "name": "python3"
  },
  "language_info": {
   "codemirror_mode": {
    "name": "ipython",
    "version": 3
   },
   "file_extension": ".py",
   "mimetype": "text/x-python",
   "name": "python",
   "nbconvert_exporter": "python",
   "pygments_lexer": "ipython3",
   "version": "3.9.12"
  }
 },
 "nbformat": 4,
 "nbformat_minor": 5
}
