{
 "cells": [
  {
   "cell_type": "code",
   "execution_count": 27,
   "id": "7d867aff",
   "metadata": {},
   "outputs": [
    {
     "name": "stdout",
     "output_type": "stream",
     "text": [
      "(1, 2, 3)\n"
     ]
    }
   ],
   "source": [
    "class Point3D():\n",
    "    def __init__(self, x, y,z):\n",
    "        self.x = x\n",
    "        self.y = y\n",
    "        self.z = z\n",
    "    def __repr__(self):\n",
    "        return \"(%d, %d, %d)\" % (self.x, self.y, self.z)\n",
    "        \n",
    "my_point = Point3D(1,2,3)\n",
    "\n",
    "print(my_point)"
   ]
  },
  {
   "cell_type": "code",
   "execution_count": 25,
   "id": "787f744e",
   "metadata": {},
   "outputs": [
    {
     "name": "stdout",
     "output_type": "stream",
     "text": [
      "14\n",
      "12\n"
     ]
    }
   ],
   "source": [
    "class rectangle():\n",
    "    def __init__(self,l,w):\n",
    "        self.l=l\n",
    "        self.w=w\n",
    "    def area(self):\n",
    "        return self.l*self.w\n",
    "    def perimeter(self):\n",
    "        return 2*(self.l+self.w)\n",
    "my_rectangle = rectangle(3,4)\n",
    "print(my_rectangle.perimeter())\n",
    "print(my_rectangle.area())"
   ]
  },
  {
   "cell_type": "code",
   "execution_count": 92,
   "id": "ea83e9ab",
   "metadata": {},
   "outputs": [
    {
     "name": "stdout",
     "output_type": "stream",
     "text": [
      "outside the circle\n"
     ]
    }
   ],
   "source": [
    "class circle():\n",
    "    def __init__(self,x1,y1,r):\n",
    "        self.o=(x1,y1)\n",
    "        self.r=r\n",
    "    def area(self):\n",
    "        return 3.14*self.r*self.r\n",
    "    def perimeter(self):\n",
    "        return 2*3.14*self.r\n",
    "    def isinside(self,x2,y2):\n",
    "        d=((x2-self.o[0])**2+(y2-self.o[1])**2)**0.5\n",
    "        if d>self.r:\n",
    "            return \"outside the circle\"\n",
    "        else:\n",
    "            return \"inside the circle\"\n",
    "circle = circle(3,4,5)\n",
    "print(circle.isinside(7,9))\n",
    "\n",
    "    \n",
    "    "
   ]
  },
  {
   "cell_type": "code",
   "execution_count": 101,
   "id": "7e4a5b0c",
   "metadata": {},
   "outputs": [
    {
     "name": "stdout",
     "output_type": "stream",
     "text": [
      "10100\n"
     ]
    }
   ],
   "source": [
    "class bank():\n",
    "    def __init__(self,balance):\n",
    "        self.b=balance\n",
    "    def deposit(self,x):\n",
    "        self.b=self.b+x\n",
    "        return self.b\n",
    "    def withdraw(self,y):\n",
    "        self.b=self.b-y\n",
    "        return balance\n",
    "balance1 = bank(10000)\n",
    "print(balance1.deposit(100))\n"
   ]
  },
  {
   "cell_type": "code",
   "execution_count": null,
   "id": "0646e52c",
   "metadata": {},
   "outputs": [],
   "source": []
  }
 ],
 "metadata": {
  "kernelspec": {
   "display_name": "Python 3 (ipykernel)",
   "language": "python",
   "name": "python3"
  },
  "language_info": {
   "codemirror_mode": {
    "name": "ipython",
    "version": 3
   },
   "file_extension": ".py",
   "mimetype": "text/x-python",
   "name": "python",
   "nbconvert_exporter": "python",
   "pygments_lexer": "ipython3",
   "version": "3.9.12"
  }
 },
 "nbformat": 4,
 "nbformat_minor": 5
}
